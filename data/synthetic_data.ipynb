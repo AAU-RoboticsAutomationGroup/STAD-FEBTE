{
 "cells": [
  {
   "cell_type": "code",
   "execution_count": 1,
   "metadata": {},
   "outputs": [
    {
     "name": "stdout",
     "output_type": "stream",
     "text": [
      "conda_env = py39 on WSL\n"
     ]
    }
   ],
   "source": [
    "%%bash\n",
    "echo conda_env = py39 on WSL"
   ]
  },
  {
   "cell_type": "code",
   "execution_count": 2,
   "metadata": {},
   "outputs": [
    {
     "name": "stdout",
     "output_type": "stream",
     "text": [
      "Python implementation: CPython\n",
      "Python version       : 3.9.15\n",
      "IPython version      : 8.7.0\n",
      "\n"
     ]
    }
   ],
   "source": [
    "%reload_ext watermark\n",
    "%watermark -v "
   ]
  },
  {
   "attachments": {},
   "cell_type": "markdown",
   "metadata": {},
   "source": [
    "In this notebook, we load the AAUWSD dataset and we create tw synthetic data from that:\n",
    "- `synthetic_fixed.dat`: which is a synthetic time series dataset with _fixed_ time vector\n",
    "- `synthetic_varying.dat`: which is a synthetic time series dataset with _varying_ time vector "
   ]
  },
  {
   "cell_type": "code",
   "execution_count": 1,
   "metadata": {},
   "outputs": [],
   "source": [
    "import pickle\n",
    "import numpy as np\n",
    "from scipy.signal import resample\n"
   ]
  },
  {
   "cell_type": "code",
   "execution_count": 2,
   "metadata": {},
   "outputs": [
    {
     "name": "stdout",
     "output_type": "stream",
     "text": [
      "dict_keys(['date', 'wood', 'pin', 'label', 'rpm', 'torque', 'current', 'angle', 'depth'])\n",
      "classes, cnts: (array([0, 1, 2, 3, 4]), array([100, 100, 100,  20,  20]))\n"
     ]
    }
   ],
   "source": [
    "with open(\"./AAUWSD.dat\", \"rb\") as f:\n",
    "    dataset = pickle.load(f)\n",
    "\n",
    "# Reducethe size of the dataset\n",
    "data_0 = [data for data in dataset if data[\"label\"]==0]\n",
    "data_1 = [data for data in dataset if data[\"label\"]==1]\n",
    "data_2 = [data for data in dataset if data[\"label\"]==2]\n",
    "data_3 = [data for data in dataset if data[\"label\"]==3]\n",
    "data_4 = [data for data in dataset if data[\"label\"]==4]\n",
    "\n",
    "dataset_ = list()\n",
    "dataset_.extend([*data_0[:100]])\n",
    "dataset_.extend([*data_1[:100]])\n",
    "dataset_.extend([*data_2[:100]])\n",
    "dataset_.extend([*data_3[:20]])\n",
    "dataset_.extend([*data_4[:20]])\n",
    "\n",
    "print(dataset_[0].keys())\n",
    "labels = [data[\"label\"] for data in dataset_]\n",
    "print(\"classes, cnts:\", np.unique(labels, return_counts=True))"
   ]
  },
  {
   "cell_type": "code",
   "execution_count": 3,
   "metadata": {},
   "outputs": [
    {
     "name": "stdout",
     "output_type": "stream",
     "text": [
      "dict_keys(['torque', 'depth', 'time', 'label'])\n",
      "classes, cnts: (array([0, 1, 2, 3, 4]), array([100, 100, 100,  20,  20]))\n"
     ]
    }
   ],
   "source": [
    "dataset_fixed = list()\n",
    "for data in dataset_:\n",
    "    data_ = dict()\n",
    "    data_[\"torque\"] = data[\"torque\"]\n",
    "    data_[\"depth\"] = data[\"depth\"]\n",
    "    data_[\"time\"] = np.arange(data[\"torque\"].size)\n",
    "    data_[\"label\"] = data[\"label\"]\n",
    "    dataset_fixed.append(data_)\n",
    "\n",
    "print(dataset_fixed[0].keys())\n",
    "labels = [data[\"label\"] for data in dataset_fixed]\n",
    "print(\"classes, cnts:\", np.unique(labels, return_counts=True))"
   ]
  },
  {
   "cell_type": "code",
   "execution_count": 5,
   "metadata": {},
   "outputs": [
    {
     "name": "stdout",
     "output_type": "stream",
     "text": [
      "dict_keys(['torque', 'torque_time', 'depth', 'depth_time', 'label'])\n",
      "classes, cnts: (array([0, 1, 2, 3, 4]), array([100, 100, 100,  20,  20]))\n"
     ]
    }
   ],
   "source": [
    "dataset_varying = list()\n",
    "for data in dataset_:\n",
    "    data_ = dict()\n",
    "    trq = data[\"torque\"]\n",
    "    dep = resample(data[\"depth\"], int(data[\"depth\"].size/2))\n",
    "\n",
    "    data_[\"torque\"] = trq\n",
    "    data_[\"torque_time\"] = np.arange(trq.size)\n",
    "    data_[\"depth\"] = dep\n",
    "    data_[\"depth_time\"] = np.arange(dep.size)\n",
    "    data_[\"label\"] = data[\"label\"]\n",
    "    dataset_varying.append(data_)\n",
    "\n",
    "print(dataset_varying[0].keys())\n",
    "labels = [data[\"label\"] for data in dataset_varying]\n",
    "print(\"classes, cnts:\", np.unique(labels, return_counts=True))"
   ]
  },
  {
   "cell_type": "code",
   "execution_count": 9,
   "metadata": {},
   "outputs": [],
   "source": [
    "with open(\"./synthetic_fixed.dat\", \"wb\") as f:\n",
    "    pickle.dump(dataset_fixed, f)\n",
    "    \n",
    "with open(\"./synthetic_varying.dat\", \"wb\") as f:\n",
    "    pickle.dump(dataset_varying, f)\n"
   ]
  }
 ],
 "metadata": {
  "kernelspec": {
   "display_name": "py39",
   "language": "python",
   "name": "python3"
  },
  "language_info": {
   "codemirror_mode": {
    "name": "ipython",
    "version": 3
   },
   "file_extension": ".py",
   "mimetype": "text/x-python",
   "name": "python",
   "nbconvert_exporter": "python",
   "pygments_lexer": "ipython3",
   "version": "3.9.15"
  },
  "orig_nbformat": 4,
  "vscode": {
   "interpreter": {
    "hash": "cb368b20b1f12609e518ddd6f46bcaa0a852bf451dc2eda8b675321d32b47d94"
   }
  }
 },
 "nbformat": 4,
 "nbformat_minor": 2
}
